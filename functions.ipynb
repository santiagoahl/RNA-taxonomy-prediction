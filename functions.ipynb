{
  "nbformat": 4,
  "nbformat_minor": 0,
  "metadata": {
    "colab": {
      "provenance": [],
      "mount_file_id": "1PgS1mng61oFn8G0rdqXqhYvhI4BxsoX3",
      "authorship_tag": "ABX9TyMrpeCC/ZVFb/SUFmYjoCvD",
      "include_colab_link": true
    },
    "kernelspec": {
      "name": "python3",
      "display_name": "Python 3"
    },
    "language_info": {
      "name": "python"
    }
  },
  "cells": [
    {
      "cell_type": "markdown",
      "metadata": {
        "id": "view-in-github",
        "colab_type": "text"
      },
      "source": [
        "<a href=\"https://colab.research.google.com/github/santiagoahl/rna-taxonomy-prediction/blob/main/functions.ipynb\" target=\"_parent\"><img src=\"https://colab.research.google.com/assets/colab-badge.svg\" alt=\"Open In Colab\"/></a>"
      ]
    },
    {
      "cell_type": "code",
      "source": [
        "import numpy as np\n",
        "import pandas as pd"
      ],
      "metadata": {
        "id": "KwcW32BKYzWv"
      },
      "execution_count": null,
      "outputs": []
    },
    {
      "cell_type": "code",
      "source": [
        "def get_data(taxonomy):\n",
        "  \"\"\"\n",
        "  Input: Taxonomy name\n",
        "  Output: \n",
        "    - data: List of ARN Chains for each taxonomy name\n",
        "    - cod: List of unique codons of the taxonomy\n",
        "  \"\"\"\n",
        "  data = df[df['Taxonomy']==taxonomy]['Codons']\n",
        "  cod = []\n",
        "  for b in data:\n",
        "    cod+=b\n",
        "  cod = list(set(cod))  # Select unique values\n",
        "  return data, cod"
      ],
      "metadata": {
        "id": "JyuXdFvzN0fe"
      },
      "execution_count": null,
      "outputs": []
    },
    {
      "cell_type": "code",
      "source": [
        "def prob(prev, post, chain):\n",
        "  \"\"\"\n",
        "  Input: ARN chain sliced by codons and two codons.\n",
        "  Params:\n",
        "    - prev = str. Specific codon which stays at first position, this parameter is obligatory. \n",
        "    - post = str. Specific codon which stays at second position, this parameter is obligatory. \n",
        "    - chain = str. Sequence of codons\n",
        "  Output:\n",
        "    - probability = float32. Probability of the event \"codon prev is observed before codon post\"\n",
        "  \"\"\"\n",
        "  occurrences = 0\n",
        "  for cod_index in range(len(chain)-1):\n",
        "    #print('\\n ok \\n')\n",
        "    codon = chain[cod_index]\n",
        "    next_codon = chain[cod_index+1]\n",
        "    #print(type(codon), type(next_codon))\n",
        "    #print(codon, next_codon)\n",
        "    if (codon == prev) & (next_codon == post):\n",
        "      occurrences+=1\n",
        "    #print(occurrences)\n",
        "  probability = occurrences/len(chain)\n",
        "  #print('Prob ', str(prev)+'+'+str(post)+' :',occurrences/len(chain))\n",
        "  return probability"
      ],
      "metadata": {
        "id": "OqqjXiJodsGx"
      },
      "execution_count": null,
      "outputs": []
    },
    {
      "cell_type": "code",
      "source": [
        "# Attempt\n",
        "from numpy.random import randint"
      ],
      "metadata": {
        "id": "poa5u7psWXck"
      },
      "execution_count": null,
      "outputs": []
    },
    {
      "cell_type": "code",
      "source": [
        "A = [randint(0, 4) for i in range(20)]"
      ],
      "metadata": {
        "id": "gBf65-EyWnSU"
      },
      "execution_count": null,
      "outputs": []
    },
    {
      "cell_type": "code",
      "source": [
        "A"
      ],
      "metadata": {
        "colab": {
          "base_uri": "https://localhost:8080/"
        },
        "id": "IDDvfZ1MW7r0",
        "outputId": "eae7db21-cc90-4caf-814c-25c5e7cfe8b6"
      },
      "execution_count": null,
      "outputs": [
        {
          "output_type": "execute_result",
          "data": {
            "text/plain": [
              "[2, 0, 3, 0, 3, 3, 2, 3, 1, 3, 3, 2, 0, 2, 3, 0, 2, 3, 2, 0]"
            ]
          },
          "metadata": {},
          "execution_count": 6
        }
      ]
    },
    {
      "cell_type": "code",
      "source": [
        "prev = 3\n",
        "post = 3\n",
        "p = prob(prev, post, A)\n",
        "#print(p)"
      ],
      "metadata": {
        "colab": {
          "base_uri": "https://localhost:8080/"
        },
        "id": "1Yc6wO74XJ8V",
        "outputId": "190b611d-742a-4266-ec6b-3847338e0a40"
      },
      "execution_count": null,
      "outputs": [
        {
          "output_type": "stream",
          "name": "stdout",
          "text": [
            "Prob:  0.05\n",
            "Prob:  0.1\n"
          ]
        }
      ]
    },
    {
      "cell_type": "code",
      "source": [
        "def transition_matrix(chain, codons):\n",
        "  \"\"\"\n",
        "  Input: ARN chains and codons of a unique taxonomy\n",
        "  Output: Transition matrix as npArray\n",
        "  \"\"\"\n",
        "  matches = {i:codons[i] for i in range(len(codons))}\n",
        "  #print('\\n', matches, '\\n')\n",
        "  #print(type(matches[0]))\n",
        "  #print('hi')\n",
        "  #print(len(range(len(chain))))\n",
        "  mat = [[prob(matches[i], matches[j], chain) for j in range(len(codons))] for i in range(len(codons))]\n",
        "  mat = np.array(mat)\n",
        "  return mat"
      ],
      "metadata": {
        "id": "W2N47N-LaFDU"
      },
      "execution_count": null,
      "outputs": []
    },
    {
      "cell_type": "code",
      "source": [
        "c = [i for i in range(4)]"
      ],
      "metadata": {
        "id": "MLAqOA3cGYeT"
      },
      "execution_count": null,
      "outputs": []
    },
    {
      "cell_type": "code",
      "source": [
        "T = transition_matrix(A, c)"
      ],
      "metadata": {
        "colab": {
          "base_uri": "https://localhost:8080/"
        },
        "id": "Js9ghBe5FDWX",
        "outputId": "8ae47b55-ce08-4b6a-88a0-c875f8e435b1"
      },
      "execution_count": null,
      "outputs": [
        {
          "output_type": "stream",
          "name": "stdout",
          "text": [
            "\n",
            " {0: 0, 1: 1, 2: 2, 3: 3} \n",
            "\n",
            "hi\n",
            "20\n",
            "Prob  0+0 : 0.05\n",
            "Prob  0+1 : 0.0\n",
            "Prob  0+2 : 0.0\n",
            "Prob  0+3 : 0.15\n",
            "Prob  1+0 : 0.1\n",
            "Prob  1+1 : 0.1\n",
            "Prob  1+2 : 0.1\n",
            "Prob  1+3 : 0.05\n",
            "Prob  2+0 : 0.05\n",
            "Prob  2+1 : 0.05\n",
            "Prob  2+2 : 0.1\n",
            "Prob  2+3 : 0.0\n",
            "Prob  3+0 : 0.05\n",
            "Prob  3+1 : 0.15\n",
            "Prob  3+2 : 0.0\n",
            "Prob  3+3 : 0.0\n"
          ]
        }
      ]
    },
    {
      "cell_type": "code",
      "source": [
        "T.shape"
      ],
      "metadata": {
        "colab": {
          "base_uri": "https://localhost:8080/"
        },
        "id": "Q3BTiCXMHWP_",
        "outputId": "3ed85cde-66ab-4a34-a383-b1c6e6d75491"
      },
      "execution_count": null,
      "outputs": [
        {
          "output_type": "execute_result",
          "data": {
            "text/plain": [
              "(4, 4)"
            ]
          },
          "metadata": {},
          "execution_count": 46
        }
      ]
    },
    {
      "cell_type": "code",
      "source": [
        "20*T"
      ],
      "metadata": {
        "colab": {
          "base_uri": "https://localhost:8080/"
        },
        "id": "K2e3AzjBIzLq",
        "outputId": "34520a79-8a6d-49c5-af1e-6106b574b025"
      },
      "execution_count": null,
      "outputs": [
        {
          "output_type": "execute_result",
          "data": {
            "text/plain": [
              "array([[1., 0., 0., 3.],\n",
              "       [2., 2., 2., 1.],\n",
              "       [1., 1., 2., 0.],\n",
              "       [1., 3., 0., 0.]])"
            ]
          },
          "metadata": {},
          "execution_count": 48
        }
      ]
    },
    {
      "cell_type": "code",
      "source": [
        "c"
      ],
      "metadata": {
        "colab": {
          "base_uri": "https://localhost:8080/"
        },
        "id": "FrkN9yVsJCjL",
        "outputId": "4f0da1dc-8c74-47ef-fd80-9dd6e9ed404b"
      },
      "execution_count": null,
      "outputs": [
        {
          "output_type": "execute_result",
          "data": {
            "text/plain": [
              "[0, 1, 2, 3]"
            ]
          },
          "metadata": {},
          "execution_count": 50
        }
      ]
    },
    {
      "cell_type": "code",
      "source": [
        "A"
      ],
      "metadata": {
        "colab": {
          "base_uri": "https://localhost:8080/"
        },
        "id": "wE0HmhMVI8N1",
        "outputId": "f71811f5-ffa7-4bab-a3a0-03581e52d571"
      },
      "execution_count": null,
      "outputs": [
        {
          "output_type": "execute_result",
          "data": {
            "text/plain": [
              "[1, 0, 3, 0, 0, 3, 1, 1, 2, 1, 1, 3, 1, 2, 2, 2, 0, 3, 1, 0]"
            ]
          },
          "metadata": {},
          "execution_count": 49
        }
      ]
    },
    {
      "cell_type": "code",
      "source": [
        "def taxonomy_transition_matrices(tax_data, codons):\n",
        "  \"\"\"\n",
        "  Input: \n",
        "    - tax_data := Set of chains of an unique taxonomy\n",
        "    - codons := Different types of codons founded\n",
        "  Output: List of transition matrices\n",
        "  \"\"\"\n",
        "  matrices = []\n",
        "  i=1\n",
        "  for chain in tax_data:  \n",
        "    if i%20==0:\n",
        "      print(str(i), '/', len(tax_data))\n",
        "    i=i+1\n",
        "    matrix = transition_matrix(chain, codons)\n",
        "    matrices.append(matrix)\n",
        "  return matrices"
      ],
      "metadata": {
        "id": "a0DIhlwi3_rB"
      },
      "execution_count": null,
      "outputs": []
    },
    {
      "cell_type": "code",
      "source": [
        "A = [randint(0, 4) for i in range(20)]\n",
        "B = [randint(0, 4) for i in range(20)]\n",
        "C = [randint(0, 4) for i in range(20)]\n",
        "D = [randint(0, 4) for i in range(20)]\n",
        "E = [randint(0, 4) for i in range(20)]\n",
        "F = [randint(0, 4) for i in range(20)]"
      ],
      "metadata": {
        "id": "HeE_bT9RK6NG"
      },
      "execution_count": null,
      "outputs": []
    },
    {
      "cell_type": "code",
      "source": [
        "td = [A, B, C, D, E, F]"
      ],
      "metadata": {
        "id": "qAh1WZgMLhwU"
      },
      "execution_count": null,
      "outputs": []
    },
    {
      "cell_type": "code",
      "source": [
        "m = taxonomy_transition_matrices(td, c)"
      ],
      "metadata": {
        "colab": {
          "base_uri": "https://localhost:8080/"
        },
        "id": "Rm9BPV0YLmVs",
        "outputId": "9439c043-5d24-45ff-a958-956cb97d762a"
      },
      "execution_count": null,
      "outputs": [
        {
          "output_type": "stream",
          "name": "stdout",
          "text": [
            "\n",
            " {0: 0, 1: 1, 2: 2, 3: 3} \n",
            "\n",
            "hi\n",
            "20\n",
            "Prob  0+0 : 0.1\n",
            "Prob  0+1 : 0.2\n",
            "Prob  0+2 : 0.0\n",
            "Prob  0+3 : 0.05\n",
            "Prob  1+0 : 0.15\n",
            "Prob  1+1 : 0.05\n",
            "Prob  1+2 : 0.2\n",
            "Prob  1+3 : 0.0\n",
            "Prob  2+0 : 0.05\n",
            "Prob  2+1 : 0.1\n",
            "Prob  2+2 : 0.0\n",
            "Prob  2+3 : 0.0\n",
            "Prob  3+0 : 0.05\n",
            "Prob  3+1 : 0.0\n",
            "Prob  3+2 : 0.0\n",
            "Prob  3+3 : 0.0\n",
            "\n",
            " {0: 0, 1: 1, 2: 2, 3: 3} \n",
            "\n",
            "hi\n",
            "20\n",
            "Prob  0+0 : 0.0\n",
            "Prob  0+1 : 0.2\n",
            "Prob  0+2 : 0.0\n",
            "Prob  0+3 : 0.05\n",
            "Prob  1+0 : 0.05\n",
            "Prob  1+1 : 0.0\n",
            "Prob  1+2 : 0.05\n",
            "Prob  1+3 : 0.15\n",
            "Prob  2+0 : 0.05\n",
            "Prob  2+1 : 0.05\n",
            "Prob  2+2 : 0.0\n",
            "Prob  2+3 : 0.05\n",
            "Prob  3+0 : 0.15\n",
            "Prob  3+1 : 0.0\n",
            "Prob  3+2 : 0.1\n",
            "Prob  3+3 : 0.05\n",
            "\n",
            " {0: 0, 1: 1, 2: 2, 3: 3} \n",
            "\n",
            "hi\n",
            "20\n",
            "Prob  0+0 : 0.05\n",
            "Prob  0+1 : 0.1\n",
            "Prob  0+2 : 0.25\n",
            "Prob  0+3 : 0.0\n",
            "Prob  1+0 : 0.05\n",
            "Prob  1+1 : 0.05\n",
            "Prob  1+2 : 0.0\n",
            "Prob  1+3 : 0.0\n",
            "Prob  2+0 : 0.2\n",
            "Prob  2+1 : 0.0\n",
            "Prob  2+2 : 0.15\n",
            "Prob  2+3 : 0.05\n",
            "Prob  3+0 : 0.05\n",
            "Prob  3+1 : 0.0\n",
            "Prob  3+2 : 0.0\n",
            "Prob  3+3 : 0.0\n",
            "\n",
            " {0: 0, 1: 1, 2: 2, 3: 3} \n",
            "\n",
            "hi\n",
            "20\n",
            "Prob  0+0 : 0.05\n",
            "Prob  0+1 : 0.05\n",
            "Prob  0+2 : 0.05\n",
            "Prob  0+3 : 0.1\n",
            "Prob  1+0 : 0.0\n",
            "Prob  1+1 : 0.0\n",
            "Prob  1+2 : 0.0\n",
            "Prob  1+3 : 0.1\n",
            "Prob  2+0 : 0.1\n",
            "Prob  2+1 : 0.05\n",
            "Prob  2+2 : 0.15\n",
            "Prob  2+3 : 0.0\n",
            "Prob  3+0 : 0.05\n",
            "Prob  3+1 : 0.05\n",
            "Prob  3+2 : 0.1\n",
            "Prob  3+3 : 0.1\n",
            "\n",
            " {0: 0, 1: 1, 2: 2, 3: 3} \n",
            "\n",
            "hi\n",
            "20\n",
            "Prob  0+0 : 0.15\n",
            "Prob  0+1 : 0.05\n",
            "Prob  0+2 : 0.0\n",
            "Prob  0+3 : 0.1\n",
            "Prob  1+0 : 0.1\n",
            "Prob  1+1 : 0.0\n",
            "Prob  1+2 : 0.05\n",
            "Prob  1+3 : 0.05\n",
            "Prob  2+0 : 0.05\n",
            "Prob  2+1 : 0.1\n",
            "Prob  2+2 : 0.1\n",
            "Prob  2+3 : 0.05\n",
            "Prob  3+0 : 0.0\n",
            "Prob  3+1 : 0.05\n",
            "Prob  3+2 : 0.1\n",
            "Prob  3+3 : 0.0\n",
            "\n",
            " {0: 0, 1: 1, 2: 2, 3: 3} \n",
            "\n",
            "hi\n",
            "20\n",
            "Prob  0+0 : 0.0\n",
            "Prob  0+1 : 0.1\n",
            "Prob  0+2 : 0.05\n",
            "Prob  0+3 : 0.1\n",
            "Prob  1+0 : 0.15\n",
            "Prob  1+1 : 0.0\n",
            "Prob  1+2 : 0.05\n",
            "Prob  1+3 : 0.0\n",
            "Prob  2+0 : 0.1\n",
            "Prob  2+1 : 0.0\n",
            "Prob  2+2 : 0.05\n",
            "Prob  2+3 : 0.1\n",
            "Prob  3+0 : 0.05\n",
            "Prob  3+1 : 0.1\n",
            "Prob  3+2 : 0.05\n",
            "Prob  3+3 : 0.05\n"
          ]
        }
      ]
    },
    {
      "cell_type": "code",
      "source": [
        "m"
      ],
      "metadata": {
        "colab": {
          "base_uri": "https://localhost:8080/"
        },
        "id": "JVOqG_UhLruC",
        "outputId": "69b1f1e4-3800-469d-9134-7f29b37203d2"
      },
      "execution_count": null,
      "outputs": [
        {
          "output_type": "execute_result",
          "data": {
            "text/plain": [
              "[array([[0.1 , 0.2 , 0.  , 0.05],\n",
              "        [0.15, 0.05, 0.2 , 0.  ],\n",
              "        [0.05, 0.1 , 0.  , 0.  ],\n",
              "        [0.05, 0.  , 0.  , 0.  ]]), array([[0.  , 0.2 , 0.  , 0.05],\n",
              "        [0.05, 0.  , 0.05, 0.15],\n",
              "        [0.05, 0.05, 0.  , 0.05],\n",
              "        [0.15, 0.  , 0.1 , 0.05]]), array([[0.05, 0.1 , 0.25, 0.  ],\n",
              "        [0.05, 0.05, 0.  , 0.  ],\n",
              "        [0.2 , 0.  , 0.15, 0.05],\n",
              "        [0.05, 0.  , 0.  , 0.  ]]), array([[0.05, 0.05, 0.05, 0.1 ],\n",
              "        [0.  , 0.  , 0.  , 0.1 ],\n",
              "        [0.1 , 0.05, 0.15, 0.  ],\n",
              "        [0.05, 0.05, 0.1 , 0.1 ]]), array([[0.15, 0.05, 0.  , 0.1 ],\n",
              "        [0.1 , 0.  , 0.05, 0.05],\n",
              "        [0.05, 0.1 , 0.1 , 0.05],\n",
              "        [0.  , 0.05, 0.1 , 0.  ]]), array([[0.  , 0.1 , 0.05, 0.1 ],\n",
              "        [0.15, 0.  , 0.05, 0.  ],\n",
              "        [0.1 , 0.  , 0.05, 0.1 ],\n",
              "        [0.05, 0.1 , 0.05, 0.05]])]"
            ]
          },
          "metadata": {},
          "execution_count": 59
        }
      ]
    }
  ]
}