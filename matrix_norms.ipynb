{
  "nbformat": 4,
  "nbformat_minor": 0,
  "metadata": {
    "colab": {
      "provenance": [],
      "include_colab_link": true
    },
    "kernelspec": {
      "name": "python3",
      "display_name": "Python 3"
    },
    "language_info": {
      "name": "python"
    }
  },
  "cells": [
    {
      "cell_type": "markdown",
      "metadata": {
        "id": "view-in-github",
        "colab_type": "text"
      },
      "source": [
        "<a href=\"https://colab.research.google.com/github/santiagoahl/rna-taxonomy-prediction/blob/main/matrix_norms.ipynb\" target=\"_parent\"><img src=\"https://colab.research.google.com/assets/colab-badge.svg\" alt=\"Open In Colab\"/></a>"
      ]
    },
    {
      "cell_type": "code",
      "source": [
        "import numpy as np\n",
        "from numpy import inf\n",
        "import pandas as pd"
      ],
      "metadata": {
        "id": "dzQjk6jrqtDq"
      },
      "execution_count": null,
      "outputs": []
    },
    {
      "cell_type": "code",
      "execution_count": null,
      "metadata": {
        "id": "dQtFvijUpqsK"
      },
      "outputs": [],
      "source": [
        "ords = ['fro', 'nuc', np.inf, -np.inf, -1, 1, -2, 2]"
      ]
    },
    {
      "cell_type": "code",
      "source": [
        "def compute_norms(matrix):\n",
        "  norms = []\n",
        "  for ord in ords:\n",
        "    norm = np.linalg.norm(matrix, ord=ord)\n",
        "    norms.append(norm)\n",
        "  eig = list(np.linalg.eig(matrix)[0])\n",
        "  eig = [np.absolute(e) for e in eig]\n",
        "  eig.sort()\n",
        "  norms += eig[0:10]\n",
        "  return norms"
      ],
      "metadata": {
        "id": "Qjqh8J31q6F7"
      },
      "execution_count": null,
      "outputs": []
    },
    {
      "cell_type": "code",
      "source": [
        "def metrics(matrices):\n",
        "  norms_list = []\n",
        "  for matrix in matrices:\n",
        "    matrix_norms = compute_norms(matrix)\n",
        "    norms_list.append(matrix_norms)\n",
        "  return norms_list"
      ],
      "metadata": {
        "id": "H3b987QJ44sx"
      },
      "execution_count": null,
      "outputs": []
    },
    {
      "cell_type": "code",
      "source": [
        "m = np.array([\n",
        "    [1, 1, 0],\n",
        "    [0, 2, 1],\n",
        "    [0, 0, -2]\n",
        "])"
      ],
      "metadata": {
        "id": "trKg7GefqoMb"
      },
      "execution_count": null,
      "outputs": []
    },
    {
      "cell_type": "code",
      "source": [
        "my_dict = {\n",
        "    'a':[\n",
        "        [[1, 1], [0, 1]],\n",
        "        [[0, 1], [1, 0]]\n",
        "    ],\n",
        "    'b':[\n",
        "        [[1, 1], [0, 1]],\n",
        "        [[0, 1], [1, 0]]\n",
        "    ],\n",
        "    'c':[\n",
        "        [[1, 1], [0, 1]],\n",
        "        [[0, 1], [1, 0]]\n",
        "    ],\n",
        "    'd':[\n",
        "        [[1, 1], [0, 1]],\n",
        "        [[0, 1], [1, 0]]\n",
        "    ]\n",
        "}"
      ],
      "metadata": {
        "id": "yCk6VnwIr5JR"
      },
      "execution_count": null,
      "outputs": []
    },
    {
      "cell_type": "code",
      "source": [
        "new_dict = {}"
      ],
      "metadata": {
        "id": "VPJ9uehdI1-u"
      },
      "execution_count": null,
      "outputs": []
    },
    {
      "cell_type": "code",
      "source": [
        "for key in my_dict.keys():\n",
        "  new_dict[key] = metrics(my_dict[key])"
      ],
      "metadata": {
        "id": "Pk9qDKvVIAiC"
      },
      "execution_count": null,
      "outputs": []
    },
    {
      "cell_type": "code",
      "source": [
        "len(new_dict['a'][0])"
      ],
      "metadata": {
        "colab": {
          "base_uri": "https://localhost:8080/"
        },
        "id": "q3hXXgl7PPTQ",
        "outputId": "317f2cfd-a5bb-40b2-b96c-45567f9018e6"
      },
      "execution_count": null,
      "outputs": [
        {
          "output_type": "execute_result",
          "data": {
            "text/plain": [
              "11"
            ]
          },
          "metadata": {},
          "execution_count": 95
        }
      ]
    }
  ]
}